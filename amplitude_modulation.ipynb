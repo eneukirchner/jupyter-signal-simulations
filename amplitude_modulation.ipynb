{
 "cells": [
  {
   "cell_type": "markdown",
   "id": "3d77e1bc-0f98-4047-bbb0-2d80b9de8eec",
   "metadata": {},
   "source": [
    "**Amplitude Modulation with 2 Baseband Signals**"
   ]
  },
  {
   "cell_type": "code",
   "execution_count": 2,
   "id": "bd066be3-a170-45ca-a3f4-c0e7ebb2bb28",
   "metadata": {},
   "outputs": [
    {
     "name": "stderr",
     "output_type": "stream",
     "text": [
      "Widget Javascript not detected.  It may not be installed or enabled properly. Reconnecting the current kernel may help.\n"
     ]
    },
    {
     "data": {
      "application/vnd.jupyter.widget-view+json": {
       "model_id": "13ec25aa447a4361bc21ab6d5cd0494b"
      }
     },
     "metadata": {},
     "output_type": "display_data"
    }
   ],
   "source": [
    "# Amplitude Modulation (AM)\n",
    "\n",
    "import numpy as np\n",
    "import scipy.signal as sp\n",
    "import matplotlib.pyplot as plt\n",
    "import ipywidgets as widgets\n",
    "\n",
    "\n",
    "fs = 10000  # sample rate 100 kHz\n",
    "Ts = 1 / fs  # time step\n",
    "t = np.arange(0, 1, Ts)  # time vector start / step / end\n",
    "\n",
    "\n",
    "\n",
    "def update_plot(fc, fb1, fb2, m1, m2):\n",
    "  # generate waves:\n",
    "  # carrier\n",
    "  uc = np.cos(2 * np.pi * fc * t)\n",
    "\n",
    "  # wave 2 -> baseband 1/ audio\n",
    "  ub1 = m1 * np.cos(2 * np.pi * fb1 * t)\n",
    "\n",
    "  # wave 3 -> baseband 2/ audio\n",
    "  ub2 = m2 * np.cos(2 * np.pi * fb2 * t)\n",
    "\n",
    "  # Vectorial Multiplication ub1 * ub2\n",
    "  uam = uc * (1 + ub1 + ub2)  # DC offset\n",
    "\n",
    "  # Save to a file\n",
    "  # np.save('uam_10k', uam)\n",
    "\n",
    "  # Calculate Frequency Spectrum\n",
    "  # with Fast Fourier Transformation (FFT)\n",
    "  F = np.fft.fft(uam)  # fourier coefficient (= amplitude) at each frequency\n",
    "  n = len(uam)  # number of samples\n",
    "  f = np.arange(0, n) * (fs / n)  # vector of frequencies\n",
    "  volt = 2 / n * np.abs(F)  # absolute value of amplitude\n",
    "\n",
    "  peakfreq, _ = sp.find_peaks(volt, height = 0.01)\n",
    "  #print(f'frequencies: {peakfreq}')\n",
    "  #print(f'amplitudes: {volt[peakfreq]}')\n",
    "\n",
    "    # Plot Time Domain\n",
    "  plt.figure(figsize=(12, 5))  \n",
    "  plt.subplot(2, 1, 1)  # 2 rows, 1 column, 1st row\n",
    "  plt.plot(t, uam, t, ub1 + ub2)\n",
    "  plt.grid(True)\n",
    "  plt.axis([0.0, 0.1, -2.2, 2.2])\n",
    "  plt.title('time domain')\n",
    "  plt.xlabel('time')\n",
    "  plt.ylabel('voltage')\n",
    "  plt.legend(['AM signal', 'baseband'])\n",
    "\n",
    "  # Plot Frequency Domain\n",
    "  plt.subplot(2, 1, 2)  # 2nd row\n",
    "  plt.stem(f, volt)\n",
    "  plt.grid(True)\n",
    "  plt.axis([0, 1000, 0, 1.2])\n",
    "  plt.title('frequency domain')\n",
    "  plt.xlabel('frequency')\n",
    "  plt.ylabel('voltage')\n",
    "  plt.tight_layout()\n",
    "\n",
    "  # annotate values\n",
    "  for x, y in zip(peakfreq, volt[peakfreq]):\n",
    "    plt.annotate(f'{x: .1f}, {y :.2f}', xy = (x, y + 0.05), rotation = 90, fontsize = 8)\n",
    "  plt.show()\n",
    "\n",
    "# Create slider widgets\n",
    "slider_m1 = widgets.FloatSlider(value=0.2, min=0.0, max=1.0, step=0.01, description='m1')\n",
    "slider_m2 = widgets.FloatSlider(value=0.5, min=0.0, max=1.0, step=0.01, description='m2')\n",
    "slider_fc = widgets.FloatSlider(value=200, min=100, max=600, step=10, description='fc')\n",
    "slider_f1 = widgets.FloatSlider(value=10, min=10, max=80, step=10, description='f1')\n",
    "slider_f2 = widgets.FloatSlider(value=30, min=10, max=80, step=10, description='f2')\n",
    "widgets.interactive(update_plot, fc=slider_fc, fb1=slider_f1, fb2=slider_f2, m1=slider_m1, m2=slider_m2)\n"
   ]
  },
  {
   "cell_type": "code",
   "execution_count": null,
   "id": "b98017d2",
   "metadata": {},
   "outputs": [],
   "source": []
  }
 ],
 "metadata": {
  "kernelspec": {
   "display_name": "Python 3 (ipykernel)",
   "language": "python",
   "name": "python3"
  },
  "language_info": {
   "codemirror_mode": {
    "name": "ipython",
    "version": 3
   },
   "file_extension": ".py",
   "mimetype": "text/x-python",
   "name": "python",
   "nbconvert_exporter": "python",
   "pygments_lexer": "ipython3",
   "version": "3.10.12"
  }
 },
 "nbformat": 4,
 "nbformat_minor": 5
}

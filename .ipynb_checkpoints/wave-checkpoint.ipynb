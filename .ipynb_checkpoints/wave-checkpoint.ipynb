{
 "cells": [
  {
   "cell_type": "code",
   "execution_count": 18,
   "id": "97d8030e",
   "metadata": {},
   "outputs": [
    {
     "name": "stderr",
     "output_type": "stream",
     "text": [
      "Widget Javascript not detected.  It may not be installed or enabled properly. Reconnecting the current kernel may help.\n"
     ]
    },
    {
     "data": {
      "application/vnd.jupyter.widget-view+json": {
       "model_id": "0629f51b9b404af6b97fd9299166f8c4"
      }
     },
     "metadata": {},
     "output_type": "display_data"
    }
   ],
   "source": [
    "%matplotlib inline\n",
    "import numpy as np\n",
    "import matplotlib.pyplot as plt\n",
    "import ipywidgets as widgets\n",
    "\n",
    "# Sample rate\n",
    "fs = 5000\n",
    "Ts = 1/fs\n",
    "t = np.arange(0, 1, Ts)  # Time vector start/step/stop\n",
    "\n",
    "\n",
    "@widgets.interact(fb=(100, 500))\n",
    "def plotme(fb):\n",
    "    # Generate wave\n",
    "    ub = np.cos(2 * np.pi * fb * t)\n",
    "    \n",
    "    # Plot Time Domain\n",
    "    plt.figure(figsize=(8, 6))\n",
    "    plt.subplot(2, 1, 1)  # 2 rows, 1 column, 1st row\n",
    "    plt.plot(t, ub)\n",
    "    plt.grid(True)\n",
    "    plt.xlabel('time')\n",
    "    plt.ylabel('voltage')\n",
    "    plt.xlim(0, 0.02)  # Limit x-axis from 0 to 0.01\n",
    "\n",
    "    # Calculate Spectrum\n",
    "    F = np.fft.fft(ub)\n",
    "    n = len(ub)  # number of samples\n",
    "    f = np.arange(0, n) * (fs/n)  # frequency range\n",
    "    volt = 2/n * np.abs(F)  # voltage of the DFT\n",
    "    power = volt**2\n",
    "\n",
    "    # Plot Frequency Domain\n",
    "    plt.subplot(2, 1, 2)  # 2 rows, 1 column, 2nd row\n",
    "    plt.plot(f, power)\n",
    "    plt.grid(True)\n",
    "    plt.xlabel('frequency')\n",
    "    plt.ylabel('power')\n",
    "    \n",
    "    plt.tight_layout()\n",
    "    plt.show()\n",
    "    \n",
    "\n"
   ]
  },
  {
   "cell_type": "code",
   "execution_count": null,
   "id": "73122011",
   "metadata": {},
   "outputs": [],
   "source": []
  }
 ],
 "metadata": {
  "kernelspec": {
   "display_name": "Python 3 (ipykernel)",
   "language": "python",
   "name": "python3"
  },
  "language_info": {
   "codemirror_mode": {
    "name": "ipython",
    "version": 3
   },
   "file_extension": ".py",
   "mimetype": "text/x-python",
   "name": "python",
   "nbconvert_exporter": "python",
   "pygments_lexer": "ipython3",
   "version": "3.10.12"
  }
 },
 "nbformat": 4,
 "nbformat_minor": 5
}
